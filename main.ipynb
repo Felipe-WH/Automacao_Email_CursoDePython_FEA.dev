{
 "cells": [
  {
   "cell_type": "markdown",
   "id": "5c5fe27c",
   "metadata": {},
   "source": [
    "Felipe Wendling Heidenfelder -\n",
    "04/09/2022 - \n",
    "Projeto FEA.dev"
   ]
  },
  {
   "cell_type": "markdown",
   "id": "b910b193",
   "metadata": {},
   "source": [
    "\n",
    "<center><h1 style=\"font-size:30px; padding: 40px; border-style: groove;\" >Automação envio de email usando Python</h1></center>\n",
    "<aside><img width=\"100\" height=\"100\" src=\"https://scontent-gru1-1.xx.fbcdn.net/v/t1.6435-9/61279234_364164247783708_5945299988337655808_n.png?_nc_cat=104&ccb=1-7&_nc_sid=09cbfe&_nc_eui2=AeHf23wWD5R57C0r4abwjdIE_j7i1f4IKL7-PuLV_ggovmU_6AR3QEtHua5Qys-UQ2diUrR7tACs7lR-vj2WMxT7&_nc_ohc=zQUWsSurFe4AX-F1AEM&tn=eorFQ5hq6iA2Y6Jy&_nc_ht=scontent-gru1-1.xx&oh=00_AT9oHf0SlU4qot0dnDlcQUZHMw-ON5Cuyn8RFM63asfMaQ&oe=633A8D6B\"></aside>\n"
   ]
  },
  {
   "cell_type": "markdown",
   "id": "8c9e0d31",
   "metadata": {},
   "source": [
    "<center><h1 style=\"padding: 20px\">Bibliotecas necessárias</h1><center>"
   ]
  },
  {
   "cell_type": "code",
   "execution_count": 1,
   "id": "f4022851",
   "metadata": {},
   "outputs": [],
   "source": [
    "import pandas as pd\n",
    "\n",
    "import smtplib\n",
    "from email.mime.multipart import MIMEMultipart\n",
    "from email.mime.text import MIMEText\n",
    "from email.mime.base import MIMEBase\n",
    "from email import encoders"
   ]
  },
  {
   "cell_type": "markdown",
   "id": "d9a8e7f1",
   "metadata": {},
   "source": [
    "<hr>"
   ]
  },
  {
   "cell_type": "markdown",
   "id": "24df3397",
   "metadata": {},
   "source": [
    "<center><h1 style=\"padding: 20px\">Importar base de dados</h1><center>"
   ]
  },
  {
   "cell_type": "code",
   "execution_count": 2,
   "id": "09770978",
   "metadata": {
    "scrolled": false
   },
   "outputs": [
    {
     "data": {
      "text/html": [
       "<div>\n",
       "<style scoped>\n",
       "    .dataframe tbody tr th:only-of-type {\n",
       "        vertical-align: middle;\n",
       "    }\n",
       "\n",
       "    .dataframe tbody tr th {\n",
       "        vertical-align: top;\n",
       "    }\n",
       "\n",
       "    .dataframe thead th {\n",
       "        text-align: right;\n",
       "    }\n",
       "</style>\n",
       "<table border=\"1\" class=\"dataframe\">\n",
       "  <thead>\n",
       "    <tr style=\"text-align: right;\">\n",
       "      <th></th>\n",
       "      <th>Nome</th>\n",
       "      <th>Email USP</th>\n",
       "    </tr>\n",
       "  </thead>\n",
       "  <tbody>\n",
       "    <tr>\n",
       "      <th>0</th>\n",
       "      <td>Ana</td>\n",
       "      <td>cristina1911@usp.br</td>\n",
       "    </tr>\n",
       "    <tr>\n",
       "      <th>1</th>\n",
       "      <td>Kevyn</td>\n",
       "      <td>kevyn.lino@usp.br</td>\n",
       "    </tr>\n",
       "    <tr>\n",
       "      <th>2</th>\n",
       "      <td>Ka</td>\n",
       "      <td>nataliaartilha@usp.br</td>\n",
       "    </tr>\n",
       "    <tr>\n",
       "      <th>3</th>\n",
       "      <td>Julio</td>\n",
       "      <td>juliomanuelpamplonaosorio@usp.br</td>\n",
       "    </tr>\n",
       "    <tr>\n",
       "      <th>4</th>\n",
       "      <td>Gustavo</td>\n",
       "      <td>gustavoyamachi@usp.br</td>\n",
       "    </tr>\n",
       "    <tr>\n",
       "      <th>5</th>\n",
       "      <td>Max</td>\n",
       "      <td>max.200.jos@usp.br</td>\n",
       "    </tr>\n",
       "    <tr>\n",
       "      <th>6</th>\n",
       "      <td>Felipe</td>\n",
       "      <td>felipewheidenfelder@usp.br</td>\n",
       "    </tr>\n",
       "    <tr>\n",
       "      <th>7</th>\n",
       "      <td>Alan</td>\n",
       "      <td>alan.b.kon@gmail.com</td>\n",
       "    </tr>\n",
       "    <tr>\n",
       "      <th>8</th>\n",
       "      <td>Thais</td>\n",
       "      <td>thais.cordeiro.teixeira@usp.br</td>\n",
       "    </tr>\n",
       "  </tbody>\n",
       "</table>\n",
       "</div>"
      ],
      "text/plain": [
       "      Nome                         Email USP\n",
       "0      Ana               cristina1911@usp.br\n",
       "1    Kevyn                 kevyn.lino@usp.br\n",
       "2       Ka             nataliaartilha@usp.br\n",
       "3    Julio  juliomanuelpamplonaosorio@usp.br\n",
       "4  Gustavo             gustavoyamachi@usp.br\n",
       "5      Max                max.200.jos@usp.br\n",
       "6   Felipe        felipewheidenfelder@usp.br\n",
       "7     Alan              alan.b.kon@gmail.com\n",
       "8    Thais    thais.cordeiro.teixeira@usp.br"
      ]
     },
     "metadata": {},
     "output_type": "display_data"
    },
    {
     "name": "stdout",
     "output_type": "stream",
     "text": [
      "\n",
      "Lista emails:  ['cristina1911@usp.br', 'kevyn.lino@usp.br', 'nataliaartilha@usp.br', 'juliomanuelpamplonaosorio@usp.br', 'gustavoyamachi@usp.br', 'max.200.jos@usp.br', 'felipewheidenfelder@usp.br', 'alan.b.kon@gmail.com', 'thais.cordeiro.teixeira@usp.br'] \n",
      "\n",
      " Lista nomes:  ['Ana', 'Kevyn', 'Ka', 'Julio', 'Gustavo', 'Max', 'Felipe', 'Alan', 'Thais']\n",
      "\n"
     ]
    }
   ],
   "source": [
    "base = pd.read_csv(\"time_projetos.csv\").drop(\"Unnamed: 0\", 1)\n",
    "\n",
    "display(base)\n",
    "\n",
    "email_integrantes = base[\"Email USP\"].values.tolist()\n",
    "nome_integrantes = base[\"Nome\"].values.tolist()\n",
    "\n",
    "print(\"\\nLista emails: \", email_integrantes,\"\\n\\n Lista nomes: \",nome_integrantes)\n",
    "print()"
   ]
  },
  {
   "cell_type": "markdown",
   "id": "4d4a4580",
   "metadata": {},
   "source": [
    "<hr>"
   ]
  },
  {
   "cell_type": "markdown",
   "id": "fff87d81",
   "metadata": {},
   "source": [
    "<center><h1 style=\"padding: 20px\">Juntar listas em uma tupla</h1><center>"
   ]
  },
  {
   "cell_type": "code",
   "execution_count": 3,
   "id": "fca51e6f",
   "metadata": {
    "scrolled": false
   },
   "outputs": [
    {
     "data": {
      "text/plain": [
       "(('Ana', 'cristina1911@usp.br'),\n",
       " ('Kevyn', 'kevyn.lino@usp.br'),\n",
       " ('Ka', 'nataliaartilha@usp.br'),\n",
       " ('Julio', 'juliomanuelpamplonaosorio@usp.br'),\n",
       " ('Gustavo', 'gustavoyamachi@usp.br'),\n",
       " ('Max', 'max.200.jos@usp.br'),\n",
       " ('Felipe', 'felipewheidenfelder@usp.br'),\n",
       " ('Alan', 'alan.b.kon@gmail.com'),\n",
       " ('Thais', 'thais.cordeiro.teixeira@usp.br'))"
      ]
     },
     "execution_count": 3,
     "metadata": {},
     "output_type": "execute_result"
    }
   ],
   "source": [
    "Membro_projetos_FEA_dev = tuple(zip(nome_integrantes, email_integrantes))\n",
    "Membro_projetos_FEA_dev"
   ]
  },
  {
   "cell_type": "markdown",
   "id": "1fb08abc",
   "metadata": {},
   "source": [
    "<hr>"
   ]
  },
  {
   "cell_type": "markdown",
   "id": "e884aeb4",
   "metadata": {},
   "source": [
    "\n",
    "# Estrutura do email\n",
    "    1) Remetente\n",
    "        - Email\n",
    "        - Senha\n",
    "    2) Destinatário\n",
    "        - Email\n",
    "    3) Título do email\n",
    "        - Texto  \n",
    "    4) Corpo do email\n",
    "        - Texto \n",
    "    5) Anexos\n",
    "        - localização arquivo no computador"
   ]
  },
  {
   "cell_type": "code",
   "execution_count": 5,
   "id": "01a26bae",
   "metadata": {},
   "outputs": [],
   "source": [
    "titulo_email = \"Curso de Python – Inscrição FEA.dev\" \n",
    "\n",
    "body = \"\"\", se você está recebendo esse e-mail é porque você fez a pré-inscrição para o curso de Python no nosso formulário de interesse. \n",
    "Chegou a hora de fazer a inscrição de fato!\n",
    "<br><br> \n",
    "Para isso, anexamos o edital do curso, com todas as informações importantes que você precisa saber, como os tópicos que serão abordados, quantidades de aulas e data de início do curso.\n",
    "Além disso, enviamos para você a carta de apresentação institucional do FEA.dev, na qual você vai saber um pouco mais sobre a nossa entidade. \n",
    "<br><br>\n",
    "Depois de tudo lido, vamos para a última etapa, você só vai precisar responder o forms abaixo, onde queremos saber se você vai participar do curso e se você poderá ir a nossa aula magna inaugural. Nesse forms você também encontrará os canais de comunicação que estaremos utilizando.\n",
    "<br><br>\n",
    "Forms de inscrição: https://forms.gle/RGbAFvcfKWwDy2wZ8\n",
    "<br><br>\n",
    "Nos vemos na aula,\n",
    "<br><br>\n",
    "FEA.dev\n",
    "\"\"\"\n",
    "\n",
    "#remetente =        # Remetente\n",
    "#password =         # Senha secundária da conta do gmail do remetente\n",
    "#filename1 =        # Endereço do arquivo no pc\n",
    "#filename2 =        # Endereço do arquivo no pc"
   ]
  },
  {
   "cell_type": "markdown",
   "id": "907163b2",
   "metadata": {},
   "source": [
    "<hr>"
   ]
  },
  {
   "cell_type": "markdown",
   "id": "ccf72342",
   "metadata": {},
   "source": [
    "\n",
    "<center><h1 style=\"padding: 20px\">Função do envio do email</h1><center>"
   ]
  },
  {
   "cell_type": "code",
   "execution_count": 6,
   "id": "6cbc2940",
   "metadata": {},
   "outputs": [],
   "source": [
    "def enviar_email_individual(remetente, email_destino, titulo, filename, password, body, nome):\n",
    "    msg = MIMEMultipart()\n",
    "    msg['From'] = remetente\n",
    "    msg['To'] = email_destino\n",
    "    msg['Subject'] = titulo\n",
    "\n",
    "    body= \"\"\"Fala, devs, beleza? <br><br> <b>\"\"\"+ nome +\"\"\"</b>\"\"\" + body\n",
    "    msg.attach(MIMEText(body, 'html'))\n",
    "   \n",
    "    file_name = [filename1.split(\"\\\\\")[-1], filename2.split(\"\\\\\")[-1]]\n",
    "    \n",
    "    for i, arquivo in enumerate(filename):\n",
    "        attachment = open(arquivo, \"rb\")\n",
    "        p = MIMEBase('application', 'octet-stream')\n",
    "        p.set_payload((attachment).read())\n",
    "        encoders.encode_base64(p)\n",
    "        p.add_header('Content-Disposition', \"attachment\", filename= file_name[i])\n",
    "        \n",
    "        msg.attach(p)\n",
    "        \n",
    "    s = smtplib.SMTP('smtp.gmail.com', 587)\n",
    "    s.starttls()\n",
    "    s.login(remetente, password)\n",
    "    text = msg.as_string()\n",
    "\n",
    "    s.sendmail(remetente, email_destino, text)\n",
    "    print(\"Email enviado para \", nome)\n",
    "\n",
    "    s.quit()"
   ]
  },
  {
   "cell_type": "markdown",
   "id": "c4b927e5",
   "metadata": {},
   "source": [
    "# "
   ]
  },
  {
   "cell_type": "code",
   "execution_count": 113,
   "id": "1a32a442",
   "metadata": {},
   "outputs": [
    {
     "data": {
      "text/plain": [
       "(('Ana', 'cristina1911@usp.br'),\n",
       " ('Kevyn', 'kevyn.lino@usp.br'),\n",
       " ('Ka', 'nataliaartilha@usp.br'),\n",
       " ('Julio', 'juliomanuelpamplonaosorio@usp.br'),\n",
       " ('Gustavo', 'gustavoyamachi@usp.br'),\n",
       " ('Max', 'max.200.jos@usp.br'),\n",
       " ('Felipe', 'felipewheidenfelder@usp.br'),\n",
       " ('Alan', 'alan.b.kon@gmail.com'),\n",
       " ('Thais', 'thais.cordeiro.teixeira@usp.br'))"
      ]
     },
     "execution_count": 113,
     "metadata": {},
     "output_type": "execute_result"
    }
   ],
   "source": [
    "Membro_projetos_FEA_dev"
   ]
  },
  {
   "cell_type": "markdown",
   "id": "9ca146f5",
   "metadata": {},
   "source": [
    "<hr>"
   ]
  },
  {
   "cell_type": "markdown",
   "id": "4596747d",
   "metadata": {},
   "source": [
    "<center><h1 style=\"padding: 20px\">Executar a função para cada um dos membros de Projetos</h1><center>"
   ]
  },
  {
   "cell_type": "code",
   "execution_count": 115,
   "id": "beb1a502",
   "metadata": {},
   "outputs": [
    {
     "name": "stdout",
     "output_type": "stream",
     "text": [
      "Email enviado para  Ana\n",
      "Email enviado para  Kevyn\n",
      "Email enviado para  Ka\n",
      "Email enviado para  Julio\n",
      "Email enviado para  Gustavo\n",
      "Email enviado para  Max\n",
      "Email enviado para  Felipe\n",
      "Email enviado para  Alan\n",
      "Email enviado para  Thais\n"
     ]
    }
   ],
   "source": [
    "for (nome_membro, email_membro) in Membro_projetos_FEA_dev:\n",
    "    enviar_email_individual(remetente, email_membro, titulo, filename, password, body, nome_membro)"
   ]
  },
  {
   "cell_type": "markdown",
   "id": "256f6092",
   "metadata": {},
   "source": [
    "# "
   ]
  }
 ],
 "metadata": {
  "kernelspec": {
   "display_name": "Python 3",
   "language": "python",
   "name": "python3"
  },
  "language_info": {
   "codemirror_mode": {
    "name": "ipython",
    "version": 3
   },
   "file_extension": ".py",
   "mimetype": "text/x-python",
   "name": "python",
   "nbconvert_exporter": "python",
   "pygments_lexer": "ipython3",
   "version": "3.8.8"
  }
 },
 "nbformat": 4,
 "nbformat_minor": 5
}
